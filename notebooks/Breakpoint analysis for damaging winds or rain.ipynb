{
 "cells": [
  {
   "cell_type": "markdown",
   "metadata": {},
   "source": [
    "# Breakpoint analysis for damaging winds or rain\n",
    "\n",
    "Here, we explore the idea that wind/rain damage occurs above some threshold of wind speed, rain rate or rain accumulation. \n",
    "\n",
    "The damage survey results are classified into damaged/not damaged, and the rate of damaged buildings for a given wind speed/rain rate/rain accumulation is determined by binning the number of damaged buildings per wind speed interval. \n",
    "\n",
    "We then attempt to determine the threshold at which the damage rate increases significantly, using a Bayesian approach."
   ]
  },
  {
   "cell_type": "code",
   "execution_count": null,
   "metadata": {},
   "outputs": [],
   "source": [
    "%matplotlib inline\n",
    "import matplotlib.pyplot as plt\n",
    "\n",
    "import pandas as pd\n",
    "import numpy as np\n",
    "\n",
    "import seaborn as sns\n",
    "sns.set_context(\"poster\")\n",
    "sns.set_style(\"whitegrid\")\n",
    "sns.set_palette(\"hls\")"
   ]
  },
  {
   "cell_type": "markdown",
   "metadata": {},
   "source": [
    "Read in the damage dataset"
   ]
  },
  {
   "cell_type": "code",
   "execution_count": null,
   "metadata": {},
   "outputs": [],
   "source": [
    "#filename = \"//nas/gemd/georisk/HaRIA_B_Wind/projects/impact_forecasting/data/exposure/NSW/April_2015_Impact_Assessment/Property_Damage_cleaned.csv\"\n",
    "filename = \"C:/Workspace/data/derived/exposure/NSW/Property_Damage_cleaned.csv\"\n",
    "df = pd.read_csv(filename)"
   ]
  },
  {
   "cell_type": "markdown",
   "metadata": {},
   "source": [
    "There are a number of blank fields throughout the data where a value was not entered into the dataset by the assessor. We need to keep track of the missing data, as well as the entered data, so we will find all 'NaN' values in the dataset, and change these to 'Not given' so we can include them in subsequent analyses."
   ]
  },
  {
   "cell_type": "code",
   "execution_count": null,
   "metadata": {},
   "outputs": [],
   "source": [
    "df = df.fillna('Not given')"
   ]
  },
  {
   "cell_type": "markdown",
   "metadata": {},
   "source": [
    "Now we add a column that indicates whether the building was damaged or not. Any building which is flagged as 'Minor', 'Major', 'Severe' or 'Destroyed' is tagged as damaged"
   ]
  },
  {
   "cell_type": "code",
   "execution_count": null,
   "metadata": {},
   "outputs": [],
   "source": [
    "damaged = np.zeros(len(df))\n",
    "damaged[df['EICU_Degdamage'].isin(['Destroyed - 76-100%', \n",
    "                                 'Severe Impact - 51-75%', \n",
    "                                 'Major Impact - 26-50%', \n",
    "                                 'Minor Impact - 1-25%'])] = 1\n",
    "df['Damaged'] = damaged"
   ]
  },
  {
   "cell_type": "markdown",
   "metadata": {},
   "source": [
    "Determine the maximum wind speed for all data points, and set up bins to determine the rate of damage."
   ]
  },
  {
   "cell_type": "code",
   "execution_count": null,
   "metadata": {},
   "outputs": [],
   "source": [
    "vmax = df[df['Damaged']>0][\"combined_alltimes_maxwind_stage4_ens12\"].max()\n",
    "bins = np.arange(0, vmax, 0.5)"
   ]
  },
  {
   "cell_type": "code",
   "execution_count": null,
   "metadata": {},
   "outputs": [],
   "source": [
    "hist, edges = np.histogram(df[df['Damaged']==1][\"combined_alltimes_maxwind_stage4_ens12\"].values,\n",
    "                            bins=len(bins),\n",
    "                            density=False)"
   ]
  },
  {
   "cell_type": "code",
   "execution_count": null,
   "metadata": {},
   "outputs": [],
   "source": [
    "plt.bar(bins, hist, width=0.5)\n",
    "_ = plt.xlabel(\"Model forecast wind speed (m/s)\")\n",
    "_ = plt.ylabel(\"Number of damaged buildings\")\n"
   ]
  },
  {
   "cell_type": "markdown",
   "metadata": {},
   "source": [
    "Now we will explore the onset of damage as a function of wind speed."
   ]
  },
  {
   "cell_type": "code",
   "execution_count": null,
   "metadata": {},
   "outputs": [],
   "source": [
    "import pymc"
   ]
  },
  {
   "cell_type": "code",
   "execution_count": null,
   "metadata": {},
   "outputs": [],
   "source": [
    "switchpoint = pymc.DiscreteUniform('switchpoint',lower=0, upper=vmax)\n",
    "early_mean = pymc.Exponential('early_mean', beta=1)\n",
    "late_mean = pymc.Exponential('late_mean', beta=1)"
   ]
  },
  {
   "cell_type": "code",
   "execution_count": null,
   "metadata": {},
   "outputs": [],
   "source": [
    "@pymc.deterministic(plot=False)\n",
    "def rate(s=switchpoint, e=early_mean, l=late_mean):\n",
    "    out = np.empty(len(bins))\n",
    "    out[:s] = e\n",
    "    out[s:] = l\n",
    "    return out"
   ]
  },
  {
   "cell_type": "code",
   "execution_count": null,
   "metadata": {},
   "outputs": [],
   "source": [
    "damage = pymc.Poisson('damage', mu=rate, value=hist, observed=True)\n",
    "model = pymc.Model([switchpoint, early_mean, late_mean, rate, damage])"
   ]
  },
  {
   "cell_type": "code",
   "execution_count": null,
   "metadata": {},
   "outputs": [],
   "source": [
    "mcmc = pymc.MCMC(model)\n",
    "mcmc.sample(iter=10000, burn=1000, thin=10)"
   ]
  },
  {
   "cell_type": "code",
   "execution_count": null,
   "metadata": {},
   "outputs": [],
   "source": [
    "plt.figure(figsize=(12,12))\n",
    "plt.subplot(311);\n",
    "plt.plot(mcmc.trace('switchpoint')[:]);\n",
    "plt.ylabel(\"Switch point\"); \n",
    "plt.subplot(312);\n",
    "plt.plot(mcmc.trace('early_mean')[:]);\n",
    "plt.ylabel(\"Early mean\");\n",
    "plt.subplot(313);\n",
    "plt.plot(mcmc.trace('late_mean')[:]);\n",
    "plt.xlabel(\"Iteration\");\n",
    "plt.ylabel(\"Late mean\");\n",
    "plt.tight_layout()"
   ]
  },
  {
   "cell_type": "code",
   "execution_count": null,
   "metadata": {},
   "outputs": [],
   "source": [
    "plt.figure(figsize=(14,3))\n",
    "plt.subplot(131);\n",
    "plt.hist(mcmc.trace('switchpoint')[:], 15,);\n",
    "plt.xlabel(\"Switch point\")\n",
    "plt.ylabel(\"Distribution\")\n",
    "plt.subplot(132);\n",
    "plt.hist(mcmc.trace('early_mean')[:], 15);\n",
    "plt.xlabel(\"Early mean\");\n",
    "plt.subplot(133);\n",
    "plt.hist(mcmc.trace('late_mean')[:], 15);\n",
    "plt.xlabel(\"Late mean\");\n",
    "plt.tight_layout()"
   ]
  },
  {
   "cell_type": "code",
   "execution_count": null,
   "metadata": {},
   "outputs": [],
   "source": [
    "yp = np.round(mcmc.trace('switchpoint')[:].mean(), 0)\n",
    "em = mcmc.trace('early_mean')[:].mean()\n",
    "es = mcmc.trace('early_mean')[:].std()\n",
    "lm = mcmc.trace('late_mean')[:].mean()\n",
    "ls = mcmc.trace('late_mean')[:].std()\n",
    "print((bins[int(yp)], em, es, lm, ls))"
   ]
  },
  {
   "cell_type": "code",
   "execution_count": null,
   "metadata": {},
   "outputs": [],
   "source": [
    "plt.figure(figsize=(12,6));\n",
    "plt.bar(bins, hist, width=0.5);\n",
    "plt.axvline(bins[int(yp)], color='k', ls='--', label=\"Mean breakpoint\");\n",
    "plt.plot([0, bins[int(yp)]], [em, em], '-b', lw=3, label=\"Average damage count below threshold\");\n",
    "plt.plot([bins[int(yp)], len(bins)], [lm, lm], '-r', lw=3, label=\"Average damage count above threshold\");\n",
    "plt.legend(loc=10, bbox_to_anchor=(0.5, -0.2), ncol=3)\n",
    "plt.xlim(0, vmax);\n",
    "plt.xlabel(\"Model forecast wind speed (m/s)\");\n",
    "plt.ylabel(\"Number damaged buildings\");"
   ]
  },
  {
   "cell_type": "markdown",
   "metadata": {},
   "source": [
    "Repeat this process, using rainfall rate as the predictor."
   ]
  },
  {
   "cell_type": "code",
   "execution_count": null,
   "metadata": {},
   "outputs": [],
   "source": [
    "rmax = df[df['Damaged']>0][\"combined_alltimes_accum_ls_rainrate_stage4_ens00\"].max()\n",
    "bins = np.linspace(0, rmax, 100)\n",
    "hist, edges = np.histogram(df[df['Damaged']==1][\"combined_alltimes_accum_ls_rainrate_stage4_ens00\"].values,\n",
    "                            bins=len(bins),\n",
    "                            density=False)\n",
    "plt.bar(bins, hist,width=(bins[1]-bins[0]))\n",
    "_ = plt.xlabel(\"Modelled precipitation rate (kg/m^2/s)\")\n",
    "_ = plt.ylabel(\"Number of damaged buildings\")"
   ]
  },
  {
   "cell_type": "code",
   "execution_count": null,
   "metadata": {},
   "outputs": [],
   "source": [
    "switchpoint = pymc.DiscreteUniform('switchpoint',lower=0, upper=rmax)\n",
    "early_mean = pymc.Exponential('early_mean', beta=1)\n",
    "late_mean = pymc.Exponential('late_mean', beta=1)\n",
    "\n",
    "@pymc.deterministic(plot=False)\n",
    "def rate(s=switchpoint, e=early_mean, l=late_mean):\n",
    "    out = np.empty(len(bins))\n",
    "    out[:s] = e\n",
    "    out[s:] = l\n",
    "    return out\n",
    "\n",
    "damage = pymc.Poisson('damage', mu=rate, value=hist, observed=True)\n",
    "model = pymc.Model([switchpoint, early_mean, late_mean, rate, damage])"
   ]
  },
  {
   "cell_type": "code",
   "execution_count": null,
   "metadata": {},
   "outputs": [],
   "source": [
    "mcmc = pymc.MCMC(model)\n",
    "mcmc.sample(iter=10000, burn=1000, thin=10)"
   ]
  },
  {
   "cell_type": "code",
   "execution_count": null,
   "metadata": {},
   "outputs": [],
   "source": [
    "plt.figure(figsize=(12,12))\n",
    "plt.subplot(311);\n",
    "plt.plot(mcmc.trace('switchpoint')[:]);\n",
    "plt.ylabel(\"Switch point\"); \n",
    "plt.subplot(312);\n",
    "plt.plot(mcmc.trace('early_mean')[:]);\n",
    "plt.ylabel(\"Early mean\");\n",
    "plt.subplot(313);\n",
    "plt.plot(mcmc.trace('late_mean')[:]);\n",
    "plt.xlabel(\"Iteration\");\n",
    "plt.ylabel(\"Late mean\");\n",
    "plt.tight_layout()"
   ]
  },
  {
   "cell_type": "code",
   "execution_count": null,
   "metadata": {},
   "outputs": [],
   "source": [
    "plt.figure(figsize=(14,3))\n",
    "plt.subplot(131);\n",
    "plt.hist(mcmc.trace('switchpoint')[:], 15,);\n",
    "plt.xlabel(\"Switch point\")\n",
    "plt.ylabel(\"Distribution\")\n",
    "plt.subplot(132);\n",
    "plt.hist(mcmc.trace('early_mean')[:], 15);\n",
    "plt.xlabel(\"Early mean\");\n",
    "plt.subplot(133);\n",
    "plt.hist(mcmc.trace('late_mean')[:], 15);\n",
    "plt.xlabel(\"Late mean\");\n",
    "plt.tight_layout()"
   ]
  },
  {
   "cell_type": "code",
   "execution_count": null,
   "metadata": {},
   "outputs": [],
   "source": [
    "yp = np.round(mcmc.trace('switchpoint')[:].mean(), 0)\n",
    "em = mcmc.trace('early_mean')[:].mean()\n",
    "es = mcmc.trace('early_mean')[:].std()\n",
    "lm = mcmc.trace('late_mean')[:].mean()\n",
    "ls = mcmc.trace('late_mean')[:].std()\n",
    "print((bins[int(yp)], em, es, lm, ls))"
   ]
  },
  {
   "cell_type": "code",
   "execution_count": null,
   "metadata": {},
   "outputs": [],
   "source": [
    "plt.figure(figsize=(12,6));\n",
    "plt.bar(bins, hist, width=bins[1]-bins[0]);\n",
    "plt.axvline(bins[int(yp)], color='k', ls='--', label=\"Mean breakpoint\");\n",
    "plt.plot([0, bins[int(yp)]], [em, em], '-b', lw=3, label=\"Average damage count below threshold\");\n",
    "plt.plot([bins[int(yp)], len(bins)], [lm, lm], '-r', lw=3, label=\"Average damage count above threshold\");\n",
    "plt.legend(loc=10, bbox_to_anchor=(0.5, -0.2), ncol=3)\n",
    "plt.xlim(0, rmax);\n",
    "plt.xlabel(\"Rainfall rate (kg/m^2/s)\");\n",
    "plt.ylabel(\"Number damaged buildings\");"
   ]
  },
  {
   "cell_type": "markdown",
   "metadata": {},
   "source": [
    "TODO:\n",
    "\n",
    "* Compare to NEXIS building points per bin (wind speed/rainfall rate) for the region\n"
   ]
  },
  {
   "cell_type": "code",
   "execution_count": null,
   "metadata": {},
   "outputs": [],
   "source": []
  }
 ],
 "metadata": {
  "kernelspec": {
   "display_name": "Python 2",
   "language": "python",
   "name": "python2"
  },
  "language_info": {
   "codemirror_mode": {
    "name": "ipython",
    "version": 2
   },
   "file_extension": ".py",
   "mimetype": "text/x-python",
   "name": "python",
   "nbconvert_exporter": "python",
   "pygments_lexer": "ipython2",
   "version": "2.7.3"
  }
 },
 "nbformat": 4,
 "nbformat_minor": 2
}
